{
  "nbformat": 4,
  "nbformat_minor": 0,
  "metadata": {
    "colab": {
      "private_outputs": true,
      "provenance": []
    },
    "kernelspec": {
      "name": "python3",
      "display_name": "Python 3"
    },
    "language_info": {
      "name": "python"
    }
  },
  "cells": [
    {
      "cell_type": "code",
      "execution_count": null,
      "metadata": {
        "id": "ssNqUTYKSqnb"
      },
      "outputs": [],
      "source": [
        "!pip install basemap\n",
        "!pip install basemap-data-hires\n",
        "!pip install pandas\n",
        "!pip install numpy\n",
        "!pip install maplotlib"
      ]
    },
    {
      "cell_type": "code",
      "source": [
        "from mpl_toolkits.basemap import Basemap\n",
        "import numpy as np\n",
        "import matplotlib.pyplot as plt\n",
        "from matplotlib.animation import FuncAnimation\n",
        "from IPython.display import HTML"
      ],
      "metadata": {
        "id": "NvUFKToTUNca"
      },
      "execution_count": null,
      "outputs": []
    },
    {
      "cell_type": "code",
      "source": [
        "fig = plt.figure(figsize = (8,8), dpi=100)\n",
        "\n",
        "\n",
        "m = Basemap(projection='lcc', resolution='h',\n",
        "            width=7E6, height=7E6,\n",
        "            lat_0=21.4399, lon_0=87.0149)\n",
        "m.etopo(scale=0.5, alpha=0.5)\n",
        "m.bluemarble(scale=0.5)\n",
        "\n",
        "\n",
        "\n",
        "x, y = m(72.8777, 19.0760)\n",
        "plt.plot(x, y, 'or', markersize=5)\n",
        "plt.text(x,y, 'Mumbai', fontsize=10)\n",
        "\n",
        "x1, y1 = m(77.1025, 28.7041)\n",
        "plt.plot(x1, y1, 'or', markersize=5)\n",
        "plt.text(x1,y1, 'Delhi', fontsize=10)\n",
        "\n",
        "x2, y2 = m(78.4867, 17.3850)\n",
        "plt.plot(x2, y2, 'or', markersize=5)\n",
        "plt.text(x2,y2, 'Hyderabad', fontsize=10)\n",
        "\n",
        "x3, y3 = m(77.5946, 12.9716)\n",
        "plt.plot(x3, y3, 'or', markersize=5)\n",
        "plt.text(x3,y3, 'Bengaluru', fontsize=10)\n",
        "\n",
        "x4, y4 = m(72.5873, 23.0258)\n",
        "plt.plot(x4, y4, 'or', markersize=5)\n",
        "plt.text(x4,y4, 'Ahmedabad', fontsize=10)\n",
        "\n",
        "plt.title('Mojor Airports of India Mapped & Geo-Located')\n",
        "\n",
        "plt.savefig(\"maj_air.png\")\n",
        "\n",
        "plt.show()"
      ],
      "metadata": {
        "id": "0iAsJi8UUojg"
      },
      "execution_count": null,
      "outputs": []
    },
    {
      "cell_type": "code",
      "source": [
        "fig = plt.figure(figsize = (10,5), dpi=100)\n",
        "ax = fig.add_axes([0.1,0.1,0.8,0.8])\n",
        "\n",
        "\n",
        "m = Basemap(llcrnrlon=-10., llcrnrlat=5., urcrnrlon=100.,urcrnrlat=60.,\n",
        "            rsphere=(6378137.00, 6356752.3142),\n",
        "            projection='merc', resolution='c',\n",
        "            lat_0=40., lon_0=-20., lat_ts=20.)\n",
        " #m.bluemarble(scale=0.5)\n",
        "\n",
        "\n",
        "ndlat = 28.7041; ndlon = 77.0125\n",
        "lonlat = 51.53; lonlon = 0.08\n",
        "\n",
        "m.drawgreatcircle(ndlon, ndlat, lonlon, lonlat, linewidth=1.8, color='r')\n",
        "\n",
        "\n",
        "m.drawcoastlines()\n",
        "m.drawcountries()\n",
        "m.drawmapboundary(fill_color='aqua')\n",
        "m.fillcontinents(color='g', lake_color='aqua')\n",
        "m.drawparallels(np.arange(10, 90, 20), labels=[1,1,0,1])\n",
        "m.drawmeridians(np.arange(-180, 180, 30), labels=[1,1,0,1])\n",
        "\n",
        "\n",
        "x, y = m(0.08, 51.53)\n",
        "plt.plot(x, y, 'ok', markersize=5)\n",
        "plt.text(x,y, 'London', fontsize=20)\n",
        "\n",
        "x1, y1 = m(77.1025, 28.7041)\n",
        "plt.plot(x1, y1, 'ok', markersize=5)\n",
        "plt.text(x1,y1, 'Delhi', fontsize=20)\n",
        "\n",
        "plt.savefig(\"flgt_path.png\")\n",
        "\n",
        "plt.show()"
      ],
      "metadata": {
        "id": "6UmErNZJV4vL"
      },
      "execution_count": null,
      "outputs": []
    },
    {
      "cell_type": "code",
      "source": [
        "from datetime import datetime\n",
        "\n",
        "fig = plt.figure(figsize = (10,5), dpi=100)\n",
        "#ax = fig.add_axes([0.1,0.1,0.8,0.8])\n",
        "\n",
        "\n",
        "m = Basemap(projection='mill', lon_0=180.)\n",
        "\n",
        "\n",
        "m.drawcoastlines()\n",
        "m.drawcountries()\n",
        "m.drawmapboundary(fill_color='aqua')\n",
        "m.fillcontinents(color='g', lake_color='aqua')\n",
        "m.drawparallels(np.arange(-90, 90, 30), labels=[1,0,0,0])\n",
        "m.drawmeridians(np.arange(m.lonmin, m.lonmax+30,60), labels=[0,0,0,1])\n",
        "\n",
        "date = datetime.utcnow()\n",
        "cs = m.nightshade(date)\n",
        "\n",
        "#plt.title('world dai/night map for %s (UTC) on miller cyllindrical projection', %date.strftime(\"%d %b %y H:%M:%s\"))\n",
        "\n",
        "plt.savefig(\"nightshade.png\")\n",
        "\n",
        "plt.show()"
      ],
      "metadata": {
        "id": "LvzN7NLEWloC"
      },
      "execution_count": null,
      "outputs": []
    },
    {
      "cell_type": "code",
      "source": [
        "fig = plt.figure(figsize=(10, 5), dpi=100);\n",
        "ax = fig.add_axes([0.1, 0.1, 0.8, 0.8]);\n",
        "\n",
        "\n",
        "m = Basemap(llcrnrlon=-10., llcrnrlat=5., urcrnrlon=100., urcrnrlat=60.,\n",
        "rsphere=(6378137.00, 6356752.3142),\n",
        "resolution='l', projection='merc',\n",
        "lat_0=40., lon_0=-20., lat_ts=20.)\n",
        "\n",
        "ndlat = 28.7041; ndlon = 77.1025 # New Delhi\n",
        "lonlat = 51.53; lonlon = 0.08 # London\n",
        "\n",
        "x, y = m(0.08, 51.53) # London\n",
        "plt.plot(x, y, 'ok', markersize=5)\n",
        "plt.text(x, y, 'London', fontsize=12)\n",
        "\n",
        "\n",
        "x1, y1 = m(77.1025, 28.7041) # New Delhi\n",
        "plt.plot(x1, y1, 'ok', markersize=5)\n",
        "plt.text(x1, y1, 'New Delhi', fontsize=12)\n",
        "\n",
        "\n",
        "num_points = 100 # Number of points to interpolate\n",
        "\n",
        "\n",
        "lon_interp = np.linspace(ndlon, lonlon, num_points)\n",
        "lat_interp = np.linspace(ndlat, lonlat, num_points)\n",
        "\n",
        "x_interp, y_interp = m(lon_interp, lat_interp)\n",
        "\n",
        "plt.plot(x_interp, y_interp, 'b--', linewidth=2)\n",
        "\n",
        "line, = plt.plot([], [], 'r--', linewidth=2)\n",
        "\n",
        "aircraft_marker, = plt.plot([], [], 'k*', markersize=10);\n",
        "\n",
        "\n",
        "def init():\n",
        "  line.set_data([], []);\n",
        "  aircraft_marker.set_data([], []);\n",
        "  return line, aircraft_marker;\n",
        "def update(frame):\n",
        "  line.set_data(x_interp[:frame], y_interp[:frame]);\n",
        "  aircraft_marker.set_data(x_interp[frame], y_interp[frame]);\n",
        "  return line, aircraft_marker;\n",
        "\n",
        "\n",
        "\n",
        "\n",
        "m.drawcoastlines()\n",
        "m.drawcountries()\n",
        "m.drawmapboundary(fill_color='aqua')\n",
        "m.fillcontinents(color='green', lake_color='aqua')\n",
        "m.drawparallels(np.arange(10, 90, 20), labels=[1, 1, 0, 1])\n",
        "m.drawmeridians(np.arange(-180, 180, 30), labels=[1, 1, 0, 1])\n",
        "\n",
        "ax.set_title('Flight path from London to New Delhi')\n",
        "\n",
        "ani = FuncAnimation(fig, update, frames=num_points, init_func=init, interval=100, blit=True);\n",
        "\n",
        "HTML(ani.to_html5_video())"
      ],
      "metadata": {
        "id": "O8xU_vL2WyoL"
      },
      "execution_count": null,
      "outputs": []
    }
  ]
}